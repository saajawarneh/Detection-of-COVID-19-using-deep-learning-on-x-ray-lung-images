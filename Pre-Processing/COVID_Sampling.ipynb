{
 "cells": [
  {
   "cell_type": "code",
   "execution_count": 1,
   "id": "e37e010c",
   "metadata": {},
   "outputs": [],
   "source": [
    "import os\n",
    "import shutil\n",
    "import random\n",
    "import glob"
   ]
  },
  {
   "cell_type": "code",
   "execution_count": 2,
   "id": "4d59982e",
   "metadata": {},
   "outputs": [],
   "source": [
    "if not os.path.exists('./Data/Covid_Dataset'):\n",
    "    os.mkdir('./Data/Covid_Dataset')"
   ]
  },
  {
   "cell_type": "code",
   "execution_count": 3,
   "id": "34ba9bee",
   "metadata": {},
   "outputs": [],
   "source": [
    "data_dir = './Data/Pre-Processed'\n",
    "covid_data_dir = './Data/Covid_Dataset'\n",
    "classes = ['COVID', 'Normal']"
   ]
  },
  {
   "cell_type": "code",
   "execution_count": 4,
   "id": "d04eb2d4",
   "metadata": {},
   "outputs": [],
   "source": [
    "for folder in os.listdir(data_dir):\n",
    "    shutil.copytree(data_dir+'/'+folder, covid_data_dir,dirs_exist_ok=True)"
   ]
  },
  {
   "cell_type": "code",
   "execution_count": 5,
   "id": "6b0e18a2",
   "metadata": {},
   "outputs": [],
   "source": [
    "if os.path.isdir('./Data/Covid_Dataset/train/COVID') is False:\n",
    "    os.makedirs('./Data/Covid_Dataset/train/COVID')\n",
    "    os.makedirs('./Data/Covid_Dataset/train/Normal')\n",
    "    os.makedirs('./Data/Covid_Dataset/valid/COVID')\n",
    "    os.makedirs('./Data/Covid_Dataset/valid/Normal')\n",
    "    os.makedirs('./Data/Covid_Dataset/test/COVID')\n",
    "    os.makedirs('./Data/Covid_Dataset/test/Normal')"
   ]
  },
  {
   "cell_type": "code",
   "execution_count": 6,
   "id": "0ee7185a",
   "metadata": {},
   "outputs": [],
   "source": [
    "os.chdir(covid_data_dir)    \n",
    "for i in random.sample(glob.glob('COVID*'), 3500):\n",
    "    shutil.move(i, 'train/COVID')      \n",
    "for i in random.sample(glob.glob('Normal*'), 5000):\n",
    "    shutil.move(i, 'train/Normal')\n",
    "for i in random.sample(glob.glob('COVID*'), 200):\n",
    "    shutil.move(i, 'valid/COVID')      \n",
    "for i in random.sample(glob.glob('Normal*'), 200):\n",
    "    shutil.move(i, 'valid/Normal')\n",
    "for i in random.sample(glob.glob('COVID*'), 626):\n",
    "    shutil.move(i, 'test/COVID')      \n",
    "for i in random.sample(glob.glob('Normal*'), 626):\n",
    "    shutil.move(i, 'test/Normal')    \n"
   ]
  },
  {
   "cell_type": "code",
   "execution_count": 7,
   "id": "5992d908",
   "metadata": {},
   "outputs": [],
   "source": [
    "for item in os.listdir('.'):\n",
    "    if not os.path.isdir(item):\n",
    "        os.remove(item)"
   ]
  },
  {
   "cell_type": "code",
   "execution_count": 8,
   "id": "95cd768c",
   "metadata": {},
   "outputs": [],
   "source": [
    "os.chdir('../../')"
   ]
  }
 ],
 "metadata": {
  "kernelspec": {
   "display_name": "Python 3",
   "language": "python",
   "name": "python3"
  },
  "language_info": {
   "codemirror_mode": {
    "name": "ipython",
    "version": 3
   },
   "file_extension": ".py",
   "mimetype": "text/x-python",
   "name": "python",
   "nbconvert_exporter": "python",
   "pygments_lexer": "ipython3",
   "version": "3.8.8"
  }
 },
 "nbformat": 4,
 "nbformat_minor": 5
}
