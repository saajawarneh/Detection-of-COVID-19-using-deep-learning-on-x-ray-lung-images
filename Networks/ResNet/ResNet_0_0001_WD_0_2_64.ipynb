{
  "cells": [
    {
      "cell_type": "code",
      "execution_count": 87,
      "id": "bf3409d5",
      "metadata": {
        "id": "bf3409d5"
      },
      "outputs": [],
      "source": [
        "#Import libraries\n",
        "import os\n",
        "import pandas as pd\n",
        "import numpy as np\n",
        "import matplotlib.pyplot as plt \n",
        "import itertools\n",
        "import tensorflow as tf\n",
        "from tensorflow.keras import layers\n",
        "from tensorflow.keras.models import Sequential, save_model\n",
        "from tensorflow.keras.layers import Dense,Flatten,GlobalAveragePooling2D\n",
        "from tensorflow.keras.optimizers import Adam\n",
        "from tensorflow.keras.preprocessing.image import ImageDataGenerator\n",
        "from sklearn.preprocessing import LabelBinarizer\n",
        "from sklearn.metrics import classification_report\n",
        "from tensorflow.keras.applications import ResNet50"
      ]
    },
    {
      "cell_type": "code",
      "source": [
        "tf.random.set_seed(42)\n",
        "np.random.seed(1337)"
      ],
      "metadata": {
        "id": "Fl8z8y98Vztn"
      },
      "id": "Fl8z8y98Vztn",
      "execution_count": 88,
      "outputs": []
    },
    {
      "cell_type": "code",
      "execution_count": 89,
      "id": "8a39de3e",
      "metadata": {
        "colab": {
          "base_uri": "https://localhost:8080/"
        },
        "id": "8a39de3e",
        "outputId": "6b1f3241-8949-472c-ef71-69f3272de93c"
      },
      "outputs": [
        {
          "output_type": "stream",
          "name": "stdout",
          "text": [
            "Drive already mounted at /content/drive; to attempt to forcibly remount, call drive.mount(\"/content/drive\", force_remount=True).\n"
          ]
        }
      ],
      "source": [
        "#Connect to google drive\n",
        "from google.colab import drive\n",
        "drive.mount('/content/drive')"
      ]
    },
    {
      "cell_type": "code",
      "execution_count": 90,
      "id": "q05L7Ri7qeLb",
      "metadata": {
        "colab": {
          "base_uri": "https://localhost:8080/"
        },
        "id": "q05L7Ri7qeLb",
        "outputId": "a1269405-6a4e-45bb-b1d8-4f71ce6dc694"
      },
      "outputs": [
        {
          "output_type": "stream",
          "name": "stdout",
          "text": [
            "\n",
            "UNRAR 5.50 freeware      Copyright (c) 1993-2017 Alexander Roshal\n",
            "\n",
            "Cannot open /content/drive/MyDrive/data/Covid_Dataset.rar\n",
            "No such file or directory\n",
            "No files to extract\n"
          ]
        }
      ],
      "source": [
        "# Unzip folder and define data directory.\n",
        "data_source = \"/content/drive/MyDrive/data/Covid_Dataset.rar\" \n",
        "data_output = \"/content\"\n",
        "!unrar x -Y \"/content/drive/MyDrive/data/Covid_Dataset.rar\" \"/content\""
      ]
    },
    {
      "cell_type": "code",
      "execution_count": 91,
      "id": "71767cb6",
      "metadata": {
        "id": "71767cb6"
      },
      "outputs": [],
      "source": [
        "#Define the hyper parameters\n",
        "data_dir = \"/content/Covid_Dataset\"\n",
        "classes = ['COVID', 'Normal']\n",
        "initial_epochs = 50\n",
        "initial_LR = 0.0001\n",
        "dropout = 0.2\n",
        "batch_size = 64\n",
        "configuration = 'ResNet50_'+str(initial_LR)+'_WD_'+str(dropout)+'_'+str(batch_size)"
      ]
    },
    {
      "cell_type": "code",
      "execution_count": 92,
      "id": "5561f061",
      "metadata": {
        "id": "5561f061"
      },
      "outputs": [],
      "source": [
        "#Define the data paths\n",
        "train_path = data_dir + '//train'\n",
        "valid_path = data_dir + '//valid'\n",
        "test_path = data_dir + '//test'"
      ]
    },
    {
      "cell_type": "code",
      "execution_count": 93,
      "id": "4e9a94b0",
      "metadata": {
        "colab": {
          "base_uri": "https://localhost:8080/"
        },
        "id": "4e9a94b0",
        "outputId": "f910b785-017f-4ddc-bb35-5ec6eee69836"
      },
      "outputs": [
        {
          "output_type": "stream",
          "name": "stdout",
          "text": [
            "Found 8500 images belonging to 2 classes.\n",
            "Found 400 images belonging to 2 classes.\n",
            "Found 1252 images belonging to 2 classes.\n"
          ]
        }
      ],
      "source": [
        "#Define batches and use the preprocessing function of ResNET50\n",
        "train_batches = ImageDataGenerator(preprocessing_function=tf.keras.applications.resnet50.preprocess_input) \\\n",
        "    .flow_from_directory(directory=train_path, classes=classes, batch_size=batch_size)\n",
        "valid_batches = ImageDataGenerator(preprocessing_function=tf.keras.applications.resnet50.preprocess_input) \\\n",
        "    .flow_from_directory(directory=valid_path, classes=classes, batch_size=batch_size)\n",
        "test_batches = ImageDataGenerator(preprocessing_function=tf.keras.applications.resnet50.preprocess_input) \\\n",
        "    .flow_from_directory(directory=test_path, classes=classes, batch_size=batch_size, shuffle=False)"
      ]
    },
    {
      "cell_type": "code",
      "execution_count": 94,
      "id": "768177cc",
      "metadata": {
        "id": "768177cc"
      },
      "outputs": [],
      "source": [
        "#Define input shape and use the weights from Imagenet and the network is a ResNT50\n",
        "INPUT_SHAPE = (224,224,3) \n",
        "base_model = tf.keras.applications.ResNet50(input_shape= INPUT_SHAPE,include_top=False,weights='imagenet')\n",
        "base_model.trainable = True"
      ]
    },
    {
      "cell_type": "code",
      "source": [
        "for layer in base_model.layers:\n",
        "  if('conv1' in layer.name or 'conv2' in layer.name):\n",
        "    layer.trainable = False\n",
        "  else:\n",
        "    continue"
      ],
      "metadata": {
        "id": "xAGMi1cKBLOA"
      },
      "id": "xAGMi1cKBLOA",
      "execution_count": 95,
      "outputs": []
    },
    {
      "cell_type": "code",
      "execution_count": 96,
      "id": "7b800865",
      "metadata": {
        "id": "7b800865"
      },
      "outputs": [],
      "source": [
        "#Define the model\n",
        "model = Sequential()\n",
        "model.add(base_model)\n",
        "model.add(GlobalAveragePooling2D())\n",
        "model.add(Flatten())\n",
        "model.add(Dense(2, activation = 'sigmoid'))"
      ]
    },
    {
      "cell_type": "code",
      "execution_count": 97,
      "id": "qCyd71K5q-m5",
      "metadata": {
        "id": "qCyd71K5q-m5"
      },
      "outputs": [],
      "source": [
        "#Stop training when a monitored metric has stopped improving\n",
        "earlystopping_callback = tf.keras.callbacks.EarlyStopping(monitor='val_loss', patience=5, restore_best_weights = True)\n",
        "\n",
        "#Callback to save the Keras model or model weights at some frequency.\n",
        "checkpoint_callback = tf.keras.callbacks.ModelCheckpoint(configuration+'.h5', monitor='val_loss', save_best_only=True, mode='min')\n",
        "\n",
        "#Configures the model for training\n",
        "model.compile(optimizer=Adam(learning_rate=initial_LR, decay=initial_LR / initial_epochs), loss='categorical_crossentropy', metrics=['accuracy'])"
      ]
    },
    {
      "cell_type": "code",
      "execution_count": 98,
      "id": "LWc7AC01rETR",
      "metadata": {
        "colab": {
          "base_uri": "https://localhost:8080/"
        },
        "id": "LWc7AC01rETR",
        "outputId": "72648949-a531-4466-a66f-a0e7947472fb"
      },
      "outputs": [
        {
          "output_type": "stream",
          "name": "stdout",
          "text": [
            "Model: \"sequential_4\"\n",
            "_________________________________________________________________\n",
            " Layer (type)                Output Shape              Param #   \n",
            "=================================================================\n",
            " resnet50 (Functional)       (None, 7, 7, 2048)        23587712  \n",
            "                                                                 \n",
            " global_average_pooling2d_4   (None, 2048)             0         \n",
            " (GlobalAveragePooling2D)                                        \n",
            "                                                                 \n",
            " flatten_4 (Flatten)         (None, 2048)              0         \n",
            "                                                                 \n",
            " dense_4 (Dense)             (None, 2)                 4098      \n",
            "                                                                 \n",
            "=================================================================\n",
            "Total params: 23,591,810\n",
            "Trainable params: 23,311,874\n",
            "Non-trainable params: 279,936\n",
            "_________________________________________________________________\n"
          ]
        }
      ],
      "source": [
        "model.summary()"
      ]
    },
    {
      "cell_type": "code",
      "execution_count": 99,
      "id": "59d02e90",
      "metadata": {
        "colab": {
          "base_uri": "https://localhost:8080/",
          "height": 533
        },
        "id": "59d02e90",
        "outputId": "1bf99fbb-1b91-4abb-9379-98eca7dd43bf"
      },
      "outputs": [
        {
          "output_type": "execute_result",
          "data": {
            "text/plain": [
              "<IPython.core.display.Image object>"
            ],
            "image/png": "[encoded data removed]"
          },
          "metadata": {},
          "execution_count": 99
        }
      ],
      "source": [
        "#Plot the model\n",
        "tf.keras.utils.plot_model(model, to_file= '/content/'+configuration+'_MODEL.png', show_shapes=True, show_layer_names=True)"
      ]
    },
    {
      "cell_type": "code",
      "execution_count": 100,
      "id": "9211d10c",
      "metadata": {
        "colab": {
          "base_uri": "https://localhost:8080/"
        },
        "id": "9211d10c",
        "outputId": "98c4d645-3887-4c76-f4ee-37c92a33f80b"
      },
      "outputs": [
        {
          "output_type": "stream",
          "name": "stdout",
          "text": [
            "Epoch 1/50\n",
            "133/133 [==============================] - 180s 1s/step - loss: 0.0860 - accuracy: 0.9662 - val_loss: 0.1989 - val_accuracy: 0.9400\n",
            "Epoch 2/50\n",
            "133/133 [==============================] - 172s 1s/step - loss: 0.0104 - accuracy: 0.9965 - val_loss: 0.0317 - val_accuracy: 0.9900\n",
            "Epoch 3/50\n",
            "133/133 [==============================] - 172s 1s/step - loss: 0.0068 - accuracy: 0.9980 - val_loss: 0.0155 - val_accuracy: 0.9950\n",
            "Epoch 4/50\n",
            "133/133 [==============================] - 171s 1s/step - loss: 0.0110 - accuracy: 0.9967 - val_loss: 0.1405 - val_accuracy: 0.9575\n",
            "Epoch 5/50\n",
            "133/133 [==============================] - 170s 1s/step - loss: 0.0026 - accuracy: 0.9993 - val_loss: 0.0541 - val_accuracy: 0.9800\n",
            "Epoch 6/50\n",
            "133/133 [==============================] - 170s 1s/step - loss: 0.0048 - accuracy: 0.9985 - val_loss: 0.0647 - val_accuracy: 0.9825\n",
            "Epoch 7/50\n",
            "133/133 [==============================] - 170s 1s/step - loss: 0.0031 - accuracy: 0.9992 - val_loss: 0.0531 - val_accuracy: 0.9850\n",
            "Epoch 8/50\n",
            "133/133 [==============================] - 171s 1s/step - loss: 0.0026 - accuracy: 0.9992 - val_loss: 0.1044 - val_accuracy: 0.9775\n"
          ]
        }
      ],
      "source": [
        "#Trains the model for a fixed number of epochs (iterations on a dataset).\n",
        "history = model.fit(\n",
        "      train_batches,\n",
        "      epochs = initial_epochs,\n",
        "      validation_data=valid_batches,\n",
        "      verbose=1,\n",
        "      callbacks = [earlystopping_callback,checkpoint_callback]\n",
        "    )"
      ]
    },
    {
      "cell_type": "code",
      "execution_count": 101,
      "id": "nkMEepD34OqE",
      "metadata": {
        "colab": {
          "base_uri": "https://localhost:8080/",
          "height": 513
        },
        "id": "nkMEepD34OqE",
        "outputId": "31a8f088-4daa-4ea7-9e66-bbe1b76dc3a9"
      },
      "outputs": [
        {
          "output_type": "display_data",
          "data": {
            "text/plain": [
              "<Figure size 576x576 with 2 Axes>"
            ],
            "image/png": "[encoded data removed]"
          },
          "metadata": {
            "needs_background": "light"
          }
        }
      ],
      "source": [
        "# Plot (training and validation) accuracy and loss figures respectively\n",
        "acc = history.history['accuracy']\n",
        "val_acc = history.history['val_accuracy']\n",
        "\n",
        "loss = history.history['loss']\n",
        "val_loss = history.history['val_loss']\n",
        "\n",
        "plt.figure(figsize=(8, 8))\n",
        "plt.subplot(2, 1, 1)\n",
        "plt.plot(acc, label='Training Accuracy', marker = '.')\n",
        "plt.plot(val_acc, label='Validation Accuracy', marker = '.')\n",
        "plt.legend(loc='lower right')\n",
        "plt.ylabel('Accuracy')\n",
        "plt.ylim([min(plt.ylim()),1])\n",
        "plt.title('Training and Validation Accuracy')\n",
        "\n",
        "plt.subplot(2, 1, 2)\n",
        "plt.plot(loss, label='Training Loss', marker = '.')\n",
        "plt.plot(val_loss, label='Validation Loss', marker = '.')\n",
        "plt.legend(loc='upper right')\n",
        "plt.ylabel('Cross Entropy')\n",
        "plt.ylim([0,1.0])\n",
        "plt.title('Training and Validation Loss')\n",
        "plt.xlabel('epoch')\n",
        "plt.savefig('/content/'+configuration+'_CURVE.png')\n",
        "plt.show()"
      ]
    },
    {
      "cell_type": "code",
      "source": [
        "ran_epochs = len(history.history['accuracy'])\n",
        "best_epoch = 0\n",
        "if(ran_epochs != 50):\n",
        "  if(ran_epochs > 5):\n",
        "    best_epoch = ran_epochs - 6  \n",
        "  else:\n",
        "    best_epoch = 0\n",
        "else:\n",
        "  best_epoch = 49"
      ],
      "metadata": {
        "id": "QeDNiV2zEbUJ"
      },
      "id": "QeDNiV2zEbUJ",
      "execution_count": 102,
      "outputs": []
    },
    {
      "cell_type": "code",
      "execution_count": 103,
      "id": "d-F3GFAz4pk6",
      "metadata": {
        "colab": {
          "base_uri": "https://localhost:8080/"
        },
        "id": "d-F3GFAz4pk6",
        "outputId": "8d7bf050-806f-43ae-cde9-7bfc7f621baf"
      },
      "outputs": [
        {
          "output_type": "stream",
          "name": "stdout",
          "text": [
            "Training Accuracy: 99.8%\n",
            "Training Loss: 0.01\n"
          ]
        }
      ],
      "source": [
        "train_accuracy = history.history['accuracy'][best_epoch]\n",
        "train_loss = history.history['loss'][best_epoch]\n",
        "train_accuracy = round(train_accuracy * 100,2)\n",
        "train_loss = round(train_loss,2)\n",
        "print(f'Training Accuracy: {train_accuracy}%')\n",
        "print(f'Training Loss: {train_loss}')"
      ]
    },
    {
      "cell_type": "code",
      "execution_count": 104,
      "id": "IgStBAPbovMD",
      "metadata": {
        "colab": {
          "base_uri": "https://localhost:8080/"
        },
        "id": "IgStBAPbovMD",
        "outputId": "a686c47d-d435-466c-f882-bf7234fe5f89"
      },
      "outputs": [
        {
          "output_type": "stream",
          "name": "stdout",
          "text": [
            "Validation Accuracy: 99.5%\n",
            "Validation Loss: 0.02\n"
          ]
        }
      ],
      "source": [
        "valid_accuracy = history.history['val_accuracy'][best_epoch]\n",
        "valid_loss = history.history['val_loss'][best_epoch]\n",
        "valid_accuracy = round(valid_accuracy * 100,2)\n",
        "valid_loss = round(valid_loss,2)\n",
        "print(f'Validation Accuracy: {valid_accuracy}%')\n",
        "print(f'Validation Loss: {valid_loss}')"
      ]
    },
    {
      "cell_type": "code",
      "execution_count": 105,
      "id": "oqfC_F9Oowf2",
      "metadata": {
        "colab": {
          "base_uri": "https://localhost:8080/"
        },
        "id": "oqfC_F9Oowf2",
        "outputId": "b2e1890e-9cd9-412e-a8be-dd50131df915"
      },
      "outputs": [
        {
          "output_type": "stream",
          "name": "stdout",
          "text": [
            "20/20 [==============================] - 11s 518ms/step - loss: 0.0278 - accuracy: 0.9912\n",
            "Testing Accuracy: 99.12%\n",
            "Testing Loss: 0.03\n"
          ]
        }
      ],
      "source": [
        "#Returns the loss value & metrics values for the model in test mode.\n",
        "test_loss, test_accuracy = model.evaluate(test_batches)\n",
        "test_accuracy = round(test_accuracy * 100,2)\n",
        "test_loss = round(test_loss,2)\n",
        "print(f'Testing Accuracy: {test_accuracy}%')\n",
        "print(f'Testing Loss: {test_loss}')"
      ]
    },
    {
      "cell_type": "code",
      "execution_count": 106,
      "id": "NXbpt-vFox36",
      "metadata": {
        "colab": {
          "base_uri": "https://localhost:8080/",
          "height": 81
        },
        "id": "NXbpt-vFox36",
        "outputId": "f66d7c32-9b85-418f-cbcc-7b6568cfb2a6"
      },
      "outputs": [
        {
          "output_type": "execute_result",
          "data": {
            "text/plain": [
              "                           Training Accuracy  Training Loss  \\\n",
              "ResNet50_0.0001_WD_0.2_64               99.8           0.01   \n",
              "\n",
              "                           Validation Accuracy  Validation Loss  \\\n",
              "ResNet50_0.0001_WD_0.2_64                 99.5             0.02   \n",
              "\n",
              "                           Testing Accuracy  Testing Loss  \n",
              "ResNet50_0.0001_WD_0.2_64             99.12          0.03  "
            ],
            "text/html": [
              "\n",
              "  <div id=\"df-8e3114d1-967b-4d51-9d84-c2555fb135e1\">\n",
              "    <div class=\"colab-df-container\">\n",
              "      <div>\n",
              "<style scoped>\n",
              "    .dataframe tbody tr th:only-of-type {\n",
              "        vertical-align: middle;\n",
              "    }\n",
              "\n",
              "    .dataframe tbody tr th {\n",
              "        vertical-align: top;\n",
              "    }\n",
              "\n",
              "    .dataframe thead th {\n",
              "        text-align: right;\n",
              "    }\n",
              "</style>\n",
              "<table border=\"1\" class=\"dataframe\">\n",
              "  <thead>\n",
              "    <tr style=\"text-align: right;\">\n",
              "      <th></th>\n",
              "      <th>Training Accuracy</th>\n",
              "      <th>Training Loss</th>\n",
              "      <th>Validation Accuracy</th>\n",
              "      <th>Validation Loss</th>\n",
              "      <th>Testing Accuracy</th>\n",
              "      <th>Testing Loss</th>\n",
              "    </tr>\n",
              "  </thead>\n",
              "  <tbody>\n",
              "    <tr>\n",
              "      <th>ResNet50_0.0001_WD_0.2_64</th>\n",
              "      <td>99.8</td>\n",
              "      <td>0.01</td>\n",
              "      <td>99.5</td>\n",
              "      <td>0.02</td>\n",
              "      <td>99.12</td>\n",
              "      <td>0.03</td>\n",
              "    </tr>\n",
              "  </tbody>\n",
              "</table>\n",
              "</div>\n",
              "      <button class=\"colab-df-convert\" onclick=\"convertToInteractive('df-8e3114d1-967b-4d51-9d84-c2555fb135e1')\"\n",
              "              title=\"Convert this dataframe to an interactive table.\"\n",
              "              style=\"display:none;\">\n",
              "        \n",
              "  <svg xmlns=\"http://www.w3.org/2000/svg\" height=\"24px\"viewBox=\"0 0 24 24\"\n",
              "       width=\"24px\">\n",
              "    <path d=\"M0 0h24v24H0V0z\" fill=\"none\"/>\n",
              "    <path d=\"M18.56 5.44l.94 2.06.94-2.06 2.06-.94-2.06-.94-.94-2.06-.94 2.06-2.06.94zm-11 1L8.5 8.5l.94-2.06 2.06-.94-2.06-.94L8.5 2.5l-.94 2.06-2.06.94zm10 10l.94 2.06.94-2.06 2.06-.94-2.06-.94-.94-2.06-.94 2.06-2.06.94z\"/><path d=\"M17.41 7.96l-1.37-1.37c-.4-.4-.92-.59-1.43-.59-.52 0-1.04.2-1.43.59L10.3 9.45l-7.72 7.72c-.78.78-.78 2.05 0 2.83L4 21.41c.39.39.9.59 1.41.59.51 0 1.02-.2 1.41-.59l7.78-7.78 2.81-2.81c.8-.78.8-2.07 0-2.86zM5.41 20L4 18.59l7.72-7.72 1.47 1.35L5.41 20z\"/>\n",
              "  </svg>\n",
              "      </button>\n",
              "      \n",
              "  <style>\n",
              "    .colab-df-container {\n",
              "      display:flex;\n",
              "      flex-wrap:wrap;\n",
              "      gap: 12px;\n",
              "    }\n",
              "\n",
              "    .colab-df-convert {\n",
              "      background-color: #E8F0FE;\n",
              "      border: none;\n",
              "      border-radius: 50%;\n",
              "      cursor: pointer;\n",
              "      display: none;\n",
              "      fill: #1967D2;\n",
              "      height: 32px;\n",
              "      padding: 0 0 0 0;\n",
              "      width: 32px;\n",
              "    }\n",
              "\n",
              "    .colab-df-convert:hover {\n",
              "      background-color: #E2EBFA;\n",
              "      box-shadow: 0px 1px 2px rgba(60, 64, 67, 0.3), 0px 1px 3px 1px rgba(60, 64, 67, 0.15);\n",
              "      fill: #174EA6;\n",
              "    }\n",
              "\n",
              "    [theme=dark] .colab-df-convert {\n",
              "      background-color: #3B4455;\n",
              "      fill: #D2E3FC;\n",
              "    }\n",
              "\n",
              "    [theme=dark] .colab-df-convert:hover {\n",
              "      background-color: #434B5C;\n",
              "      box-shadow: 0px 1px 3px 1px rgba(0, 0, 0, 0.15);\n",
              "      filter: drop-shadow(0px 1px 2px rgba(0, 0, 0, 0.3));\n",
              "      fill: #FFFFFF;\n",
              "    }\n",
              "  </style>\n",
              "\n",
              "      <script>\n",
              "        const buttonEl =\n",
              "          document.querySelector('#df-8e3114d1-967b-4d51-9d84-c2555fb135e1 button.colab-df-convert');\n",
              "        buttonEl.style.display =\n",
              "          google.colab.kernel.accessAllowed ? 'block' : 'none';\n",
              "\n",
              "        async function convertToInteractive(key) {\n",
              "          const element = document.querySelector('#df-8e3114d1-967b-4d51-9d84-c2555fb135e1');\n",
              "          const dataTable =\n",
              "            await google.colab.kernel.invokeFunction('convertToInteractive',\n",
              "                                                     [key], {});\n",
              "          if (!dataTable) return;\n",
              "\n",
              "          const docLinkHtml = 'Like what you see? Visit the ' +\n",
              "            '<a target=\"_blank\" href=https://colab.research.google.com/notebooks/data_table.ipynb>data table notebook</a>'\n",
              "            + ' to learn more about interactive tables.';\n",
              "          element.innerHTML = '';\n",
              "          dataTable['output_type'] = 'display_data';\n",
              "          await google.colab.output.renderOutput(dataTable, element);\n",
              "          const docLink = document.createElement('div');\n",
              "          docLink.innerHTML = docLinkHtml;\n",
              "          element.appendChild(docLink);\n",
              "        }\n",
              "      </script>\n",
              "    </div>\n",
              "  </div>\n",
              "  "
            ]
          },
          "metadata": {},
          "execution_count": 106
        }
      ],
      "source": [
        "#Print the results in a dataframe \n",
        "results = {'Training Accuracy': train_accuracy, 'Training Loss':train_loss,\n",
        "           'Validation Accuracy':valid_accuracy,'Validation Loss':valid_loss,\n",
        "           'Testing Accuracy':test_accuracy,'Testing Loss':test_loss}\n",
        "results_df = pd.DataFrame(results, index = [configuration])\n",
        "results_df = results_df.round(2)\n",
        "results_df.to_csv('/content/'+configuration+'_RESULTS.csv')\n",
        "results_df"
      ]
    },
    {
      "cell_type": "code",
      "execution_count": 107,
      "id": "Law1Sqe4o0n6",
      "metadata": {
        "colab": {
          "base_uri": "https://localhost:8080/"
        },
        "id": "Law1Sqe4o0n6",
        "outputId": "1b78311f-cbc1-4054-dedc-73591ab75939"
      },
      "outputs": [
        {
          "output_type": "stream",
          "name": "stdout",
          "text": [
            "20/20 [==============================] - 11s 517ms/step\n"
          ]
        }
      ],
      "source": [
        "#Generates output predictions for the input samples.\n",
        "predictions = model.predict(x=test_batches, verbose = 1)"
      ]
    },
    {
      "cell_type": "code",
      "execution_count": 108,
      "id": "96e-SsDTo2Ni",
      "metadata": {
        "colab": {
          "base_uri": "https://localhost:8080/"
        },
        "id": "96e-SsDTo2Ni",
        "outputId": "9289bfc8-d5a9-464b-a512-e4b440cb9735"
      },
      "outputs": [
        {
          "output_type": "stream",
          "name": "stdout",
          "text": [
            "              precision  recall  f1-score  support\n",
            "COVID              0.99    0.99      0.99   626.00\n",
            "Normal             0.99    0.99      0.99   626.00\n",
            "accuracy           0.99    0.99      0.99     0.99\n",
            "macro avg          0.99    0.99      0.99  1252.00\n",
            "weighted avg       0.99    0.99      0.99  1252.00\n"
          ]
        }
      ],
      "source": [
        "#Print a classification report\n",
        "from sklearn.metrics import classification_report, confusion_matrix\n",
        "cr = classification_report(y_true=test_batches.classes, y_pred=np.argmax(predictions, axis=-1), target_names=classes, output_dict=True)\n",
        "df = pd.DataFrame(cr).transpose()\n",
        "df = df.round(2)\n",
        "df.to_csv('/content/'+configuration+'_CR.csv')\n",
        "print(df)"
      ]
    },
    {
      "cell_type": "code",
      "execution_count": 109,
      "id": "cP5vP6bXo4Dr",
      "metadata": {
        "id": "cP5vP6bXo4Dr"
      },
      "outputs": [],
      "source": [
        "#Define a function to use in plotting the confusion matrix\n",
        "def plot_confusion_matrix(cm, classes,\n",
        "                          normalize=False,\n",
        "                          title='Confusion matrix',\n",
        "                          cmap=plt.cm.Blues):\n",
        "    \"\"\"\n",
        "    This function prints and plots the confusion matrix.\n",
        "    Normalization can be applied by setting `normalize=True`.\n",
        "    \"\"\"\n",
        "    plt.imshow(cm, interpolation='nearest', cmap=cmap)\n",
        "    plt.title(title)\n",
        "    plt.colorbar()\n",
        "    tick_marks = np.arange(len(classes))\n",
        "    plt.xticks(tick_marks, classes, rotation=45)\n",
        "    plt.yticks(tick_marks, classes)\n",
        "\n",
        "    if normalize:\n",
        "        cm = cm.astype('float') / cm.sum(axis=1)[:, np.newaxis]\n",
        "        print(\"Normalized confusion matrix\")\n",
        "    else:\n",
        "        print('Confusion matrix, without normalization')\n",
        "\n",
        "    thresh = cm.max() / 2.\n",
        "    for i, j in itertools.product(range(cm.shape[0]), range(cm.shape[1])):\n",
        "        plt.text(j, i, cm[i, j],\n",
        "            horizontalalignment=\"center\",\n",
        "            color=\"white\" if cm[i, j] > thresh else \"black\")\n",
        "\n",
        "    plt.tight_layout()\n",
        "    plt.ylabel('True label')\n",
        "    plt.xlabel('Predicted label')\n",
        "    plt.savefig('/content/'+configuration+'_CM.png')"
      ]
    },
    {
      "cell_type": "code",
      "execution_count": 110,
      "id": "t64Pjlooo5lP",
      "metadata": {
        "colab": {
          "base_uri": "https://localhost:8080/",
          "height": 328
        },
        "id": "t64Pjlooo5lP",
        "outputId": "6e12788a-f4aa-4068-a8b4-165a4d704afd"
      },
      "outputs": [
        {
          "output_type": "stream",
          "name": "stdout",
          "text": [
            "Confusion matrix, without normalization\n"
          ]
        },
        {
          "output_type": "display_data",
          "data": {
            "text/plain": [
              "<Figure size 432x288 with 2 Axes>"
            ],
            "image/png": "[encoded data removed]"
          },
          "metadata": {
            "needs_background": "light"
          }
        }
      ],
      "source": [
        "#Plot the confusion matrix \n",
        "cm = confusion_matrix(y_true=test_batches.classes, y_pred=np.argmax(predictions, axis=-1))\n",
        "plot_confusion_matrix(cm=cm, classes=classes, title='Confusion Matrix')"
      ]
    }
  ],
  "metadata": {
    "accelerator": "GPU",
    "colab": {
      "collapsed_sections": [],
      "name": "ResNet_0_0001_WD_0_2_64.ipynb",
      "provenance": [],
      "machine_shape": "hm"
    },
    "kernelspec": {
      "display_name": "Python 3",
      "language": "python",
      "name": "python3"
    },
    "language_info": {
      "codemirror_mode": {
        "name": "ipython",
        "version": 3
      },
      "file_extension": ".py",
      "mimetype": "text/x-python",
      "name": "python",
      "nbconvert_exporter": "python",
      "pygments_lexer": "ipython3",
      "version": "3.8.8"
    }
  },
  "nbformat": 4,
  "nbformat_minor": 5
}